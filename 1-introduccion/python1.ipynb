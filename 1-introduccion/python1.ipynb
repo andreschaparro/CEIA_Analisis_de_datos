{
  "nbformat": 4,
  "nbformat_minor": 0,
  "metadata": {
    "colab": {
      "provenance": [],
      "authorship_tag": "ABX9TyMmwIk7Hcs96Z43XYvPiOX0",
      "include_colab_link": true
    },
    "kernelspec": {
      "name": "python3",
      "display_name": "Python 3"
    },
    "language_info": {
      "name": "python"
    }
  },
  "cells": [
    {
      "cell_type": "markdown",
      "metadata": {
        "id": "view-in-github",
        "colab_type": "text"
      },
      "source": [
        "<a href=\"https://colab.research.google.com/github/andreschaparro/CEIA_Analisis_de_datos/blob/main/1-introduccion/python1.ipynb\" target=\"_parent\"><img src=\"https://colab.research.google.com/assets/colab-badge.svg\" alt=\"Open In Colab\"/></a>"
      ]
    },
    {
      "cell_type": "markdown",
      "source": [
        "# Programacion en Python\n",
        "\n",
        "## Numeros"
      ],
      "metadata": {
        "id": "p5Qm83gpTM1s"
      }
    },
    {
      "cell_type": "markdown",
      "source": [
        "1. Haga la suma de 2 numeros e imprima el resultado."
      ],
      "metadata": {
        "id": "HlHkysCgTztN"
      }
    },
    {
      "cell_type": "code",
      "execution_count": 6,
      "metadata": {
        "colab": {
          "base_uri": "https://localhost:8080/"
        },
        "id": "4bO3a5piTDHS",
        "outputId": "141ef26a-9995-4e54-9685-64ab329080b8"
      },
      "outputs": [
        {
          "output_type": "stream",
          "name": "stdout",
          "text": [
            "La suma es 5.1\n"
          ]
        }
      ],
      "source": [
        "a = 2.1\n",
        "b = 3\n",
        "sum = a + b\n",
        "print(f'La suma es {sum}')"
      ]
    },
    {
      "cell_type": "markdown",
      "source": [
        "2. Calcule el producto de todos los numeros del 1 a 10."
      ],
      "metadata": {
        "id": "iEGjMfi7U-ux"
      }
    },
    {
      "cell_type": "code",
      "source": [],
      "metadata": {
        "id": "VK9AC7r1VBqT"
      },
      "execution_count": null,
      "outputs": []
    }
  ]
}